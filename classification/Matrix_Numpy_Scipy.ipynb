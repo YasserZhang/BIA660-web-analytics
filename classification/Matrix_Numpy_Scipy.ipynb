{
 "cells": [
  {
   "cell_type": "markdown",
   "metadata": {},
   "source": [
    "# <center>Matrix Operations - Numpy & Scipy Packages</center>\n",
    "References:\n",
    "* https://docs.scipy.org/doc/numpy-dev/user/quickstart.html\n",
    "* http://cs231n.github.io/python-numpy-tutorial/#numpy\n",
    "* https://docs.scipy.org/doc/scipy/reference/sparse.html\n",
    "* https://eli.thegreenplace.net/2015/broadcasting-arrays-in-numpy/"
   ]
  },
  {
   "cell_type": "markdown",
   "metadata": {},
   "source": [
    "## 1. Numpy\n",
    "- Numpy is the core library for scientific computing in Python. It provides a high-performance multidimensional array object, and tools for working with these arrays. \n",
    "\n",
    "- A numpy **array** is a grid of values, **all of the same type**. \n",
    "    - The number of dimensions is the **rank** of the array\n",
    "    - The **shape** of an array is a tuple of integers giving the size of the array along each dimension\n",
    "    - Numpy arrays can be initialized from nested Python lists, and access elements using square brackets"
   ]
  },
  {
   "cell_type": "code",
   "execution_count": null,
   "metadata": {},
   "outputs": [],
   "source": [
    "# Exercise 1.1. Initialize an array from list\n",
    "\n",
    "import numpy as np\n",
    "\n",
    "# Create a rank 1 array\n",
    "a = np.array([1, 2, 3])  \n",
    "\n",
    "print (\"data type:\", type(a))\n",
    "print(\"array shape, \",a.shape)\n",
    "print(\"the first element\", a[0])\n",
    "\n",
    "# Change an element of the array\n",
    "a[0] = 5                 \n",
    "print(a)"
   ]
  },
  {
   "cell_type": "code",
   "execution_count": null,
   "metadata": {},
   "outputs": [],
   "source": [
    "# Exercise 1.2. Create a rank 2 array from list of lists\n",
    "\n",
    "b = np.array([[1,2,3],[4,5,6]])   \n",
    "print(b)\n",
    "\n",
    "print (\"b's shape:\", b.shape)                   \n",
    "print (b[0, 0], b[0, 1], b[1, 0])"
   ]
  },
  {
   "cell_type": "code",
   "execution_count": null,
   "metadata": {},
   "outputs": [],
   "source": [
    "# Exercise 1.3. Create a rank 2 array of all zeros\n",
    "\n",
    "a = np.zeros((2,2))  \n",
    "print(a)"
   ]
  },
  {
   "cell_type": "code",
   "execution_count": null,
   "metadata": {},
   "outputs": [],
   "source": [
    "# Exercise 1.4. Create a rank 2 array of all ones\n",
    "\n",
    "b = np.ones((3,2))   \n",
    "print(b)"
   ]
  },
  {
   "cell_type": "code",
   "execution_count": null,
   "metadata": {},
   "outputs": [],
   "source": [
    "# Exercise 1.5. Create a constant array\n",
    "\n",
    "c = np.full((2,2), 7) \n",
    "print(c)"
   ]
  },
  {
   "cell_type": "code",
   "execution_count": null,
   "metadata": {},
   "outputs": [],
   "source": [
    "# Exercise 1.6. a 2x2 identity matrix\n",
    "\n",
    "d = np.eye(2)        \n",
    "print d"
   ]
  },
  {
   "cell_type": "code",
   "execution_count": null,
   "metadata": {},
   "outputs": [],
   "source": [
    "# Exercise 1.7. # Create a matrix filled with random values\n",
    "\n",
    "e = np.random.random((2,2)) \n",
    "print(e)"
   ]
  },
  {
   "cell_type": "markdown",
   "metadata": {},
   "source": [
    "### 1.1. Array Slicing\n",
    " - Similar to Python lists, numpy arrays can be sliced. \n",
    " - Since arrays may be multidimensional, you must specify a slice for each dimension of the array\n",
    " - A slice of an array is a view into the same data, so modifying it will modify the original array."
   ]
  },
  {
   "cell_type": "code",
   "execution_count": null,
   "metadata": {},
   "outputs": [],
   "source": [
    "# Exercise 1.1.1 Get a specific row\n",
    "\n",
    "\n",
    "a = np.array([[1,2,3,4], [5,6,7,8], [9,10,11,12]])\n",
    "\n",
    "# get the first row\n",
    "row_1=a[0]      # row_1[0,:] does the same too\n",
    "print(\"the first row:\", row_1)\n",
    "print(\"shape of 1st row:\", row_1.shape)\n",
    "\n",
    "# loop through all rows\n",
    "for idx,row in enumerate(a):\n",
    "    print(idx, row)\n"
   ]
  },
  {
   "cell_type": "code",
   "execution_count": null,
   "metadata": {},
   "outputs": [],
   "source": [
    "# Exercise 1.1.1 Get a specific column\n",
    "\n",
    "\n",
    "a = np.array([[1,2,3,4], [5,6,7,8], [9,10,11,12]])\n",
    "\n",
    "# get the first row\n",
    "column_1=a[:, 0]      \n",
    "print(\"the first column:\", column_1)\n",
    "print(\"shape of 1st column:\", column_1.shape)"
   ]
  },
  {
   "cell_type": "code",
   "execution_count": null,
   "metadata": {
    "collapsed": true
   },
   "outputs": [],
   "source": [
    "# Exercise 1.1.3 Get subarrays\n",
    "\n",
    "# Use slicing to pull out the subarray \n",
    "# consisting of the first 2 rows\n",
    "# and columns 1 and 2 \n",
    "a = np.array([[1,2,3,4], [5,6,7,8], [9,10,11,12]])\n",
    "b = a[:2, 1:3]\n",
    "print(b)"
   ]
  },
  {
   "cell_type": "code",
   "execution_count": null,
   "metadata": {},
   "outputs": [],
   "source": [
    "# Exercise 1.1.4 Get subset of a consisting of\n",
    "# the 1st & 3rd rows and\n",
    "# the 1st & 2nd columns\n",
    "a = np.array([[1,2,3,4], [5,6,7,8], [9,10,11,12]])"
   ]
  },
  {
   "cell_type": "code",
   "execution_count": null,
   "metadata": {},
   "outputs": [],
   "source": [
    "# Exercise 1.1.5: Modify slice\n",
    "# A slice of an array is **a view into the same data**, \n",
    "# so modifying it will modify the original array.\n",
    "\n",
    "a = np.array([[1,2,3,4], [5,6,7,8], [9,10,11,12]])\n",
    "\n",
    "# b is a slice\n",
    "b = a[:2, 1:3]\n",
    "\n",
    "print (\"Original value at (0,1):\", a[0, 1])  \n",
    "b[0, 0] = 77    \n",
    "# b[0, 0] is the same piece of data as a[0, 1]\n",
    "print (\"Modified value at (0,1):\", a[0, 1])  "
   ]
  },
  {
   "cell_type": "markdown",
   "metadata": {},
   "source": [
    "### 1.2. Boolean array indexing\n",
    "\n",
    "- Boolean array indexing lets you pick out arbitrary elements of an array. \n",
    "- Frequently this type of indexing is used to select the elements of an array that satisfy some condition. \n",
    "- Typically it's used with function np.where"
   ]
  },
  {
   "cell_type": "code",
   "execution_count": null,
   "metadata": {},
   "outputs": [],
   "source": [
    "# Exercise 1.2.1: boolean array indexing\n",
    "\n",
    "a = np.array([[1,2], [3, 4], [5, 6]])\n",
    "\n",
    "# Find the elements of a that are bigger than 2;\n",
    "# this returns a numpy array of Booleans of the same\n",
    "# shape as a, where each slot of bool_idx tells\n",
    "# whether that element of a is > 2\n",
    "\n",
    "bool_idx = (a > 2)  \n",
    "\n",
    "print(bool_idx)"
   ]
  },
  {
   "cell_type": "code",
   "execution_count": null,
   "metadata": {},
   "outputs": [],
   "source": [
    "# Exercise 1.2.2: Select values >2\n",
    "\n",
    "print a[bool_idx]\n",
    "\n",
    "# We can do all of the above in a single concise statement:\n",
    "print a[a > 2]"
   ]
  },
  {
   "cell_type": "code",
   "execution_count": null,
   "metadata": {},
   "outputs": [],
   "source": [
    "# Exercise 1.2.3: Find locations where values>2\n",
    "\n",
    "# where returns the locations \n",
    "# satisfying the condition\n",
    "# as a tuple of lists\n",
    "# each list gives locations at one dimension\n",
    "a = np.array([[1,2], [3, 4], [5, 6]])\n",
    "print(np.where(a>2))\n"
   ]
  },
  {
   "cell_type": "code",
   "execution_count": null,
   "metadata": {},
   "outputs": [],
   "source": [
    "# Exercise 1.2.3: change values by condition\n",
    "\n",
    "a = np.array([[1,2], [3, 0], [5, 0]])\n",
    "print(\"before change:\", a)\n",
    "\n",
    "# if a value >=1, set it to 1\n",
    "a[np.where(a>1)]=1\n",
    "print(\"after change:\", a)"
   ]
  },
  {
   "cell_type": "markdown",
   "metadata": {},
   "source": [
    "### 1.3. Array Math\n",
    "\n",
    "- Basic mathematical functions operate **elementwise** on arrays, and are available both as operator overloads and as functions in the numpy module\n",
    "- Pay attention to the difference between **elementwise multiplication** and **dot product**"
   ]
  },
  {
   "cell_type": "code",
   "execution_count": null,
   "metadata": {},
   "outputs": [],
   "source": [
    "# Exercise 1.3.1: matrix addition\n",
    "\n",
    "x = np.array([[1,2],[3,4]])\n",
    "y = np.array([[5,6],[7,8]])\n",
    "\n",
    "# Elementwise sum; both produce the array\n",
    "print (x + y)\n",
    "print (np.add(x, y))"
   ]
  },
  {
   "cell_type": "code",
   "execution_count": null,
   "metadata": {},
   "outputs": [],
   "source": [
    "# Exercise 1.3.2: Subtraction\n",
    "\n",
    "x = np.array([[1,2],[3,4]])\n",
    "y = np.array([[5,6],[7,8]])\n",
    "\n",
    "#Elementwise difference; both produce the array\n",
    "print (x - y)\n",
    "print (np.subtract(x, y))"
   ]
  },
  {
   "cell_type": "code",
   "execution_count": null,
   "metadata": {},
   "outputs": [],
   "source": [
    "# Exercise 1.3.3:  Elementwise product\n",
    "\n",
    "x = np.array([[1,2],[3,4]])\n",
    "y = np.array([[5,6],[7,8]])\n",
    "\n",
    "print (x * y)\n",
    "print (np.multiply(x, y))"
   ]
  },
  {
   "cell_type": "code",
   "execution_count": null,
   "metadata": {},
   "outputs": [],
   "source": [
    "# Exercise 1.3.4:  dot product\n",
    "\n",
    "x = np.array([[1,2],[3,4]])\n",
    "y = np.array([[5,6],[7,8]])\n",
    "\n",
    "print np.dot(x, y)\n",
    "print x.dot(y)\n",
    "\n",
    "# compare the result with Exercise 1.3.3"
   ]
  },
  {
   "cell_type": "code",
   "execution_count": null,
   "metadata": {},
   "outputs": [],
   "source": [
    "# Exercise 1.3.4:  Elementwise division\n",
    "\n",
    "print (x / y)\n",
    "print (np.divide(x, y))\n"
   ]
  },
  {
   "cell_type": "code",
   "execution_count": null,
   "metadata": {},
   "outputs": [],
   "source": [
    "# Exercise 1.3.5:  Elementwise square root\n",
    "x = np.array([[1,2],[3,4]])\n",
    "print np.sqrt(x)"
   ]
  },
  {
   "cell_type": "markdown",
   "metadata": {},
   "source": [
    "### 1.4. Other useful array functions\n",
    "\n",
    "- Numpy provides many useful functions for performing computations on arrays\n",
    "    - **sum**  along different dimensions\n",
    "    - **transpose**\n",
    "    - ** reshape **"
   ]
  },
  {
   "cell_type": "code",
   "execution_count": null,
   "metadata": {},
   "outputs": [],
   "source": [
    "# Exercise 1.4.1:  Matrix Sum\n",
    "\n",
    "x = np.array([[1,2],[3,4]])\n",
    "\n",
    "# Compute sum of all elements; prints \"10\"\n",
    "print (\"sum of all elements:\",np.sum(x))  \n",
    "\n",
    "# Compute sum of each column\n",
    "# return 1-dimension array\n",
    "print (\"sum of each column:\", np.sum(x, axis=0))  \n",
    "\n",
    "# Compute sum of each row\n",
    "# return 1-dimension array\n",
    "print (\"sum of each row:\", np.sum(x, axis=1))  \n",
    "\n",
    "# Compute sum of each row\n",
    "# return 2-dimension matrix\n",
    "row_sum_matrix=np.sum(x, axis=1, keepdims=True)\n",
    "print (\"row sum matrix:\", row_sum_matrix ) \n",
    "print (\"row sum matrix shape:\", row_sum_matrix.shape )\n",
    "\n"
   ]
  },
  {
   "cell_type": "code",
   "execution_count": null,
   "metadata": {},
   "outputs": [],
   "source": [
    "# Exercise 1.4.2:  Matrix transpose\n",
    "x = np.array([[1,2],[3,4],[5,6]])\n",
    "print(\"shape of x:\", x.shape)\n",
    "print (\"transpose of x:\", x.T)\n",
    "print(\"shape of the transpose of x:\", x.T.shape)"
   ]
  },
  {
   "cell_type": "code",
   "execution_count": null,
   "metadata": {},
   "outputs": [],
   "source": [
    "# Exercise 1.4.2:  Matrix reshape\n",
    "\n",
    "x = np.array([[1,2],[3,4],[5,6]])\n",
    "\n",
    "# reshape it to 2x3 matrix\n",
    "# note that this is different from transpose\n",
    "print(\"reshape to 2x3 matrix:\", np.reshape(x, (2,3)))\n",
    "\n",
    "# flatten the matrix into 1-dimension array\n",
    "print (\"flatten x:\", np.reshape(x, -1))"
   ]
  },
  {
   "cell_type": "markdown",
   "metadata": {},
   "source": [
    "### 1.5. Broadcasting\n",
    "- Broadcasting is a powerful mechanism that allows numpy to work with arrays of different shapes when performing arithmetic operations\n",
    "- Frequently we have a smaller array and a larger array, and we want to use the smaller array multiple times to perform some operation on the larger array.\n",
    "- Examples:\n",
    "    - add a constant vector to each row of a matrix \n",
    "        * e.g. when smoothing tf-idf, add 1 to both tf and idf\n",
    "    - multiple each row of matrix by a vector (1-dimension array)\n",
    "        * e.g. tf is a matrix (mxn, m: # of documents, n: # of words), idf is a vector (n values), tf-idf=tf * idf \n",
    "- It would be very inefficient to use a loop to achieve this given a large matrix\n"
   ]
  },
  {
   "cell_type": "code",
   "execution_count": null,
   "metadata": {},
   "outputs": [],
   "source": [
    "# Exercise 1.5.1:  Successful broadcasting\n",
    "\n",
    "# Add the vector B to each row of A,\n",
    "\n",
    "A = np.array([[1,2,3], [4,5,6], [7,8,9], [10, 11, 12]])\n",
    "B = np.array([1, 0, 1])\n",
    "Z = A + B  # Add v to each row of x using broadcasting\n",
    "print (Z)"
   ]
  },
  {
   "cell_type": "code",
   "execution_count": null,
   "metadata": {},
   "outputs": [],
   "source": [
    "# Exercise 1.5.2:  Failed broadcasting\n",
    "\n",
    "# However, the following won't work\n",
    "\n",
    "# Add a vector to each column of A\n",
    "A = np.array([[1,2,3], [4,5,6], [7,8,9], [10, 11, 12]])\n",
    "B = np.array([1, 0, 1, 4])\n",
    "Z = A + B  \n",
    "print (Z)\n"
   ]
  },
  {
   "cell_type": "markdown",
   "metadata": {},
   "source": [
    "### 1.6. Broadcasting Rules:\n",
    "1. Assume two arrays A and B. \n",
    "   - <font color='blue'>For example, A(4, 3), B (3,). A has rank 2, and B has rank 1</font>\n",
    "2. If the arrays do not have the same rank, prepend the shape of the lower rank array with 1s until both shapes have the same length.\n",
    "    - <font color='blue'>Padding 1 to the left of the shape of B. So B's shape becomes (1,3)</font>\n",
    "3. The two arrays are said to be **compatible** in a dimension **if they have the same size in the dimension, or if one of the arrays has size 1 in that dimension**. If compatible, continue to Step 4; otherwise stop and raise an error\n",
    "    \n",
    "    - <font color='blue'> Compare the shapes of A and B in each dimension: </font>\n",
    "       * <font color='blue'>Dimension 1: A is 4 and B is 1 => compatible </font> *  \n",
    "       * <font color='blue'> Dimension 2: A is 3 and B is 3 => compatible</font> *\n",
    "    - <font color='blue'> So, A and B are compatible in every dimension</font>\n",
    "4. After broadcasting, each array behaves as if it had shape equal to the elementwise maximum of shapes of the two input arrays.\n",
    "    - <font color='blue'> After brodcasting, B's shape => (4,3)</font>\n",
    "5. In any dimension where one array had size 1 and the other array had size greater than 1, the first array behaves as if it were copied along that dimension\n",
    "    - <font color='blue'> Suppose B=([1, 0, 1]). After broadcasting, B => ([1, 0, 1],[1, 0, 1],[1, 0, 1],[1, 0, 1])</font>\n",
    "6. Apply matrix math using B after broadcasting"
   ]
  },
  {
   "cell_type": "code",
   "execution_count": null,
   "metadata": {},
   "outputs": [],
   "source": [
    "# Exercise 1.5.3:  revisit Exercise 1.5.3\n",
    "\n",
    "# Add a vector to each column of A\n",
    "A = np.array([[1,2,3], [4,5,6], [7,8,9], [10, 11, 12]])\n",
    "B = np.array([1, 0, 1, 4])\n",
    "\n",
    "# A's shape (4,3), B's shape (1,4)\n",
    "# It's incompatible with A at the 2nd dimension\n",
    "\n",
    "# However, after transpose A\n",
    "# they are compatible\n",
    "Z = A.T + B  \n",
    "print (Z.T)"
   ]
  },
  {
   "cell_type": "markdown",
   "metadata": {},
   "source": [
    "### 1.7. Sparse Matrix\n",
    "- Why sparse matrix\n",
    "    * In some matrixes (e.g. document-term matrix), most of the elements are zero. These matrices are called **sparse matrices**, while the ones that have mostly non-zero elements are called **dense matrices**.\n",
    "    * These matrixes usually are very big. It needs memory to store every number\n",
    "- Sparse matrix: a matrix that **only stores non-zero elements**. \n",
    "- Scipy package provides different types of sparse matrix. Commonly used types:\n",
    "    * csc_matrix: Compressed Sparse Column format\n",
    "    * csr_matrix: Compressed Sparse Row format\n",
    "- Sparse matrixes can be manipulated almost in the same way as a dense matrix. Check https://docs.scipy.org/doc/scipy/reference/sparse.html for functions for sparse matrixes."
   ]
  },
  {
   "cell_type": "code",
   "execution_count": null,
   "metadata": {},
   "outputs": [],
   "source": [
    "# Exercise 1.7.1: Define a sparse matrix\n",
    "\n",
    "import numpy as np\n",
    "from scipy.sparse import csr_matrix\n",
    "A = csr_matrix([[1, 0, 0], [0, 0, 3], [4, 0, 5]])\n",
    "print(A)\n",
    "print(A[1,2])\n"
   ]
  },
  {
   "cell_type": "code",
   "execution_count": null,
   "metadata": {},
   "outputs": [],
   "source": [
    "# Exercise 1.7.2: Sparse matrix math\n",
    "\n",
    "A = csr_matrix([[1, 0, 0], [0, 0, 3], [4, 0, 5]])\n",
    "v = np.array([1, 0, -1])\n",
    "A.dot(v)"
   ]
  }
 ],
 "metadata": {
  "kernelspec": {
   "display_name": "Python 2",
   "language": "python",
   "name": "python2"
  },
  "language_info": {
   "codemirror_mode": {
    "name": "ipython",
    "version": 2
   },
   "file_extension": ".py",
   "mimetype": "text/x-python",
   "name": "python",
   "nbconvert_exporter": "python",
   "pygments_lexer": "ipython2",
   "version": "2.7.13"
  }
 },
 "nbformat": 4,
 "nbformat_minor": 2
}
